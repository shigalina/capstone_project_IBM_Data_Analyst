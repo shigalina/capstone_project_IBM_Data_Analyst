{
 "cells": [
  {
   "cell_type": "markdown",
   "metadata": {},
   "source": [
    "<p style=\"text-align:center\">\n",
    "    <a href=\"https://skills.network/?utm_medium=Exinfluencer&utm_source=Exinfluencer&utm_content=000026UJ&utm_term=10006555&utm_id=NA-SkillsNetwork-Channel-SkillsNetworkCoursesIBMDA0321ENSkillsNetwork928-2022-01-01\" target=\"_blank\">\n",
    "    <img src=\"https://cf-courses-data.s3.us.cloud-object-storage.appdomain.cloud/assets/logos/SN_web_lightmode.png\" width=\"200\" alt=\"Skills Network Logo\"  />\n",
    "    </a>\n",
    "</p>\n"
   ]
  },
  {
   "cell_type": "markdown",
   "metadata": {},
   "source": [
    "# **Data Wrangling Lab**\n"
   ]
  },
  {
   "cell_type": "markdown",
   "metadata": {},
   "source": [
    "Estimated time needed: **45 to 60** minutes\n"
   ]
  },
  {
   "cell_type": "markdown",
   "metadata": {},
   "source": [
    "In this assignment you will be performing data wrangling.\n"
   ]
  },
  {
   "cell_type": "markdown",
   "metadata": {},
   "source": [
    "## Objectives\n"
   ]
  },
  {
   "cell_type": "markdown",
   "metadata": {},
   "source": [
    "In this lab you will perform the following:\n"
   ]
  },
  {
   "cell_type": "markdown",
   "metadata": {},
   "source": [
    "-   Identify duplicate values in the dataset.\n",
    "\n",
    "-   Remove duplicate values from the dataset.\n",
    "\n",
    "-   Identify missing values in the dataset.\n",
    "\n",
    "-   Impute the missing values in the dataset.\n",
    "\n",
    "-   Normalize data in the dataset.\n"
   ]
  },
  {
   "cell_type": "markdown",
   "metadata": {},
   "source": [
    "<hr>\n"
   ]
  },
  {
   "cell_type": "markdown",
   "metadata": {},
   "source": [
    "## Hands on Lab\n"
   ]
  },
  {
   "cell_type": "markdown",
   "metadata": {},
   "source": [
    "Import pandas module.\n"
   ]
  },
  {
   "cell_type": "code",
   "execution_count": 1,
   "metadata": {},
   "outputs": [],
   "source": [
    "import pandas as pd"
   ]
  },
  {
   "cell_type": "markdown",
   "metadata": {},
   "source": [
    "Load the dataset into a dataframe.\n"
   ]
  },
  {
   "cell_type": "code",
   "execution_count": 2,
   "metadata": {},
   "outputs": [],
   "source": [
    "df = pd.read_csv(\"https://cf-courses-data.s3.us.cloud-object-storage.appdomain.cloud/IBM-DA0321EN-SkillsNetwork/LargeData/m1_survey_data.csv\")"
   ]
  },
  {
   "cell_type": "markdown",
   "metadata": {},
   "source": [
    "## Finding duplicates\n"
   ]
  },
  {
   "cell_type": "markdown",
   "metadata": {},
   "source": [
    "In this section you will identify duplicate values in the dataset.\n"
   ]
  },
  {
   "cell_type": "markdown",
   "metadata": {},
   "source": [
    " Find how many duplicate rows exist in the dataframe.\n"
   ]
  },
  {
   "cell_type": "code",
   "execution_count": 4,
   "metadata": {},
   "outputs": [
    {
     "data": {
      "text/plain": [
       "154"
      ]
     },
     "execution_count": 4,
     "metadata": {},
     "output_type": "execute_result"
    }
   ],
   "source": [
    "duplicate = df[df.duplicated()]\n",
    "duplicate.shape[0]\n",
    "#duplicate_number = len(duplicate.index)\n",
    "#duplicate_number\n"
   ]
  },
  {
   "cell_type": "markdown",
   "metadata": {},
   "source": [
    "## Removing duplicates\n"
   ]
  },
  {
   "cell_type": "markdown",
   "metadata": {},
   "source": [
    "Remove the duplicate rows from the dataframe.\n"
   ]
  },
  {
   "cell_type": "code",
   "execution_count": 5,
   "metadata": {},
   "outputs": [
    {
     "data": {
      "text/plain": [
       "11398"
      ]
     },
     "execution_count": 5,
     "metadata": {},
     "output_type": "execute_result"
    }
   ],
   "source": [
    "result_df = df.drop_duplicates()\n",
    "result_df.shape[0]"
   ]
  },
  {
   "cell_type": "markdown",
   "metadata": {},
   "source": [
    "Verify if duplicates were actually dropped.\n"
   ]
  },
  {
   "cell_type": "code",
   "execution_count": 20,
   "metadata": {},
   "outputs": [
    {
     "name": "stdout",
     "output_type": "stream",
     "text": [
      "Loaded dataset: 11552 rows, dataset after removing the duplicate rows: 11398 rows. \n",
      "\n",
      "There are 0 duplicated rows in \"result_df\" dataframe.\n"
     ]
    }
   ],
   "source": [
    "print(f'Loaded dataset: {df.shape[0]} rows, dataset after removing the duplicate rows: {result_df.shape[0]} rows. \\n')\n",
    "\n",
    "check_duplicates=result_df[result_df.duplicated()]\n",
    "\n",
    "print(f'There are {check_duplicates.shape[0]} duplicated rows in \"result_df\" dataframe.')"
   ]
  },
  {
   "cell_type": "markdown",
   "metadata": {},
   "source": [
    "## Finding Missing values\n"
   ]
  },
  {
   "cell_type": "markdown",
   "metadata": {},
   "source": [
    "Find the missing values for all columns.\n"
   ]
  },
  {
   "cell_type": "code",
   "execution_count": 31,
   "metadata": {},
   "outputs": [
    {
     "name": "stdout",
     "output_type": "stream",
     "text": [
      "Respondent\n",
      "0\n",
      "\n",
      "MainBranch\n",
      "0\n",
      "\n",
      "Hobbyist\n",
      "0\n",
      "\n",
      "OpenSourcer\n",
      "0\n",
      "\n",
      "OpenSource\n",
      "81\n",
      "\n",
      "Employment\n",
      "0\n",
      "\n",
      "Country\n",
      "0\n",
      "\n",
      "Student\n",
      "51\n",
      "\n",
      "EdLevel\n",
      "112\n",
      "\n",
      "UndergradMajor\n",
      "737\n",
      "\n",
      "EduOther\n",
      "164\n",
      "\n",
      "OrgSize\n",
      "96\n",
      "\n",
      "DevType\n",
      "65\n",
      "\n",
      "YearsCode\n",
      "9\n",
      "\n",
      "Age1stCode\n",
      "13\n",
      "\n",
      "YearsCodePro\n",
      "16\n",
      "\n",
      "CareerSat\n",
      "0\n",
      "\n",
      "JobSat\n",
      "1\n",
      "\n",
      "MgrIdiot\n",
      "493\n",
      "\n",
      "MgrMoney\n",
      "497\n",
      "\n",
      "MgrWant\n",
      "493\n",
      "\n",
      "JobSeek\n",
      "0\n",
      "\n",
      "LastHireDate\n",
      "0\n",
      "\n",
      "LastInt\n",
      "413\n",
      "\n",
      "FizzBuzz\n",
      "37\n",
      "\n",
      "JobFactors\n",
      "3\n",
      "\n",
      "ResumeUpdate\n",
      "39\n",
      "\n",
      "CurrencySymbol\n",
      "0\n",
      "\n",
      "CurrencyDesc\n",
      "0\n",
      "\n",
      "CompTotal\n",
      "809\n",
      "\n",
      "CompFreq\n",
      "206\n",
      "\n",
      "ConvertedComp\n",
      "816\n",
      "\n",
      "WorkWeekHrs\n",
      "122\n",
      "\n",
      "WorkPlan\n",
      "121\n",
      "\n",
      "WorkChallenge\n",
      "164\n",
      "\n",
      "WorkRemote\n",
      "8\n",
      "\n",
      "WorkLoc\n",
      "32\n",
      "\n",
      "ImpSyn\n",
      "5\n",
      "\n",
      "CodeRev\n",
      "1\n",
      "\n",
      "CodeRevHrs\n",
      "2426\n",
      "\n",
      "UnitTests\n",
      "29\n",
      "\n",
      "PurchaseHow\n",
      "196\n",
      "\n",
      "PurchaseWhat\n",
      "38\n",
      "\n",
      "LanguageWorkedWith\n",
      "11\n",
      "\n",
      "LanguageDesireNextYear\n",
      "134\n",
      "\n",
      "DatabaseWorkedWith\n",
      "453\n",
      "\n",
      "DatabaseDesireNextYear\n",
      "1042\n",
      "\n",
      "PlatformWorkedWith\n",
      "411\n",
      "\n",
      "PlatformDesireNextYear\n",
      "544\n",
      "\n",
      "WebFrameWorkedWith\n",
      "1393\n",
      "\n",
      "WebFrameDesireNextYear\n",
      "1617\n",
      "\n",
      "MiscTechWorkedWith\n",
      "2182\n",
      "\n",
      "MiscTechDesireNextYear\n",
      "1455\n",
      "\n",
      "DevEnviron\n",
      "29\n",
      "\n",
      "OpSys\n",
      "34\n",
      "\n",
      "Containers\n",
      "82\n",
      "\n",
      "BlockchainOrg\n",
      "2322\n",
      "\n",
      "BlockchainIs\n",
      "2610\n",
      "\n",
      "BetterLife\n",
      "98\n",
      "\n",
      "ITperson\n",
      "35\n",
      "\n",
      "OffOn\n",
      "38\n",
      "\n",
      "SocialMedia\n",
      "293\n",
      "\n",
      "Extraversion\n",
      "20\n",
      "\n",
      "ScreenName\n",
      "507\n",
      "\n",
      "SOVisit1st\n",
      "325\n",
      "\n",
      "SOVisitFreq\n",
      "5\n",
      "\n",
      "SOVisitTo\n",
      "1\n",
      "\n",
      "SOFindAnswer\n",
      "3\n",
      "\n",
      "SOTimeSaved\n",
      "50\n",
      "\n",
      "SOHowMuchTime\n",
      "1917\n",
      "\n",
      "SOAccount\n",
      "1\n",
      "\n",
      "SOPartFreq\n",
      "1128\n",
      "\n",
      "SOJobs\n",
      "6\n",
      "\n",
      "EntTeams\n",
      "5\n",
      "\n",
      "SOComm\n",
      "0\n",
      "\n",
      "WelcomeChange\n",
      "85\n",
      "\n",
      "SONewContent\n",
      "1965\n",
      "\n",
      "Age\n",
      "287\n",
      "\n",
      "Gender\n",
      "73\n",
      "\n",
      "Trans\n",
      "123\n",
      "\n",
      "Sexuality\n",
      "542\n",
      "\n",
      "Ethnicity\n",
      "675\n",
      "\n",
      "Dependents\n",
      "140\n",
      "\n",
      "SurveyLength\n",
      "19\n",
      "\n",
      "SurveyEase\n",
      "14\n",
      "\n"
     ]
    },
    {
     "data": {
      "text/plain": [
       "\"\\n#False means not null values, True is null values\\nfor column in missing_data.columns.values.tolist():\\n    print (column)\\n    print(missing_data[column].value_counts())\\n    print('')\\n\""
      ]
     },
     "execution_count": 31,
     "metadata": {},
     "output_type": "execute_result"
    }
   ],
   "source": [
    "missing_data=result_df.isnull()\n",
    "\n",
    "for column in missing_data.columns.values.tolist():\n",
    "    print (column)\n",
    "    print(missing_data[column].sum())\n",
    "    print('')\n",
    "    \n",
    "'''\n",
    "#False means not null values, True is null values\n",
    "for column in missing_data.columns.values.tolist():\n",
    "    print (column)\n",
    "    print(missing_data[column].value_counts())\n",
    "    print('')\n",
    "'''"
   ]
  },
  {
   "cell_type": "markdown",
   "metadata": {},
   "source": [
    "Find out how many rows are missing in the column 'WorkLoc'\n"
   ]
  },
  {
   "cell_type": "code",
   "execution_count": 27,
   "metadata": {},
   "outputs": [
    {
     "name": "stdout",
     "output_type": "stream",
     "text": [
      "missing_values: 32\n"
     ]
    }
   ],
   "source": [
    "missing_values_WorkLoc=result_df['WorkLoc'].isnull().sum()\n",
    "print(f\"missing_values: {missing_values_WorkLoc}\")"
   ]
  },
  {
   "cell_type": "markdown",
   "metadata": {},
   "source": [
    "## Imputing missing values\n"
   ]
  },
  {
   "cell_type": "markdown",
   "metadata": {},
   "source": [
    "Find the  value counts for the column WorkLoc.\n"
   ]
  },
  {
   "cell_type": "code",
   "execution_count": 32,
   "metadata": {},
   "outputs": [
    {
     "data": {
      "text/plain": [
       "Office                                            6806\n",
       "Home                                              3589\n",
       "Other place, such as a coworking space or cafe     971\n",
       "NaN                                                 32\n",
       "Name: WorkLoc, dtype: int64"
      ]
     },
     "execution_count": 32,
     "metadata": {},
     "output_type": "execute_result"
    }
   ],
   "source": [
    "value_counts=result_df['WorkLoc'].value_counts(dropna=False)\n",
    "value_counts"
   ]
  },
  {
   "cell_type": "markdown",
   "metadata": {},
   "source": [
    "Identify the value that is most frequent (majority) in the WorkLoc column.\n"
   ]
  },
  {
   "cell_type": "code",
   "execution_count": 36,
   "metadata": {},
   "outputs": [
    {
     "name": "stdout",
     "output_type": "stream",
     "text": [
      "The most frequent value in the WorkLoc column is \"Office\".\n"
     ]
    }
   ],
   "source": [
    "most_frequent_workloc=result_df['WorkLoc'].value_counts().idxmax()\n",
    "print(f'The most frequent value in the WorkLoc column is \"{most_frequent_workloc}\".')\n",
    "#most_frequent_workloc=result_df['UndergradMajor'].value_counts().idxmin()"
   ]
  },
  {
   "cell_type": "markdown",
   "metadata": {},
   "source": [
    "Impute (replace) all the empty rows in the column WorkLoc with the value that you have identified as majority.\n"
   ]
  },
  {
   "cell_type": "code",
   "execution_count": 37,
   "metadata": {},
   "outputs": [],
   "source": [
    "import numpy as np\n",
    "pd.options.mode.chained_assignment = None\n",
    "\n",
    "result_df['WorkLoc']=result_df['WorkLoc'].replace(np.nan, most_frequent_workloc)"
   ]
  },
  {
   "cell_type": "markdown",
   "metadata": {},
   "source": [
    "After imputation there should ideally not be any empty rows in the WorkLoc column.\n"
   ]
  },
  {
   "cell_type": "markdown",
   "metadata": {},
   "source": [
    "Verify if imputing was successful.\n"
   ]
  },
  {
   "cell_type": "code",
   "execution_count": 38,
   "metadata": {},
   "outputs": [
    {
     "data": {
      "text/plain": [
       "Office                                            6838\n",
       "Home                                              3589\n",
       "Other place, such as a coworking space or cafe     971\n",
       "Name: WorkLoc, dtype: int64"
      ]
     },
     "execution_count": 38,
     "metadata": {},
     "output_type": "execute_result"
    }
   ],
   "source": [
    "result_df['WorkLoc'].value_counts(dropna=False)"
   ]
  },
  {
   "cell_type": "markdown",
   "metadata": {},
   "source": [
    "## Normalizing data\n"
   ]
  },
  {
   "cell_type": "markdown",
   "metadata": {},
   "source": [
    "There are two columns in the dataset that talk about compensation.\n",
    "\n",
    "One is \"CompFreq\". This column shows how often a developer is paid (Yearly, Monthly, Weekly).\n",
    "\n",
    "The other is \"CompTotal\". This column talks about how much the developer is paid per Year, Month, or Week depending upon his/her \"CompFreq\". \n",
    "\n",
    "This makes it difficult to compare the total compensation of the developers.\n",
    "\n",
    "In this section you will create a new column called 'NormalizedAnnualCompensation' which contains the 'Annual Compensation' irrespective of the 'CompFreq'.\n",
    "\n",
    "Once this column is ready, it makes comparison of salaries easy.\n"
   ]
  },
  {
   "cell_type": "markdown",
   "metadata": {},
   "source": [
    "<hr>\n"
   ]
  },
  {
   "cell_type": "markdown",
   "metadata": {},
   "source": [
    "List out the various categories in the column 'CompFreq'\n"
   ]
  },
  {
   "cell_type": "code",
   "execution_count": 25,
   "metadata": {},
   "outputs": [
    {
     "data": {
      "text/plain": [
       "array(['Yearly', 'Monthly', 'Weekly', nan], dtype=object)"
      ]
     },
     "execution_count": 25,
     "metadata": {},
     "output_type": "execute_result"
    }
   ],
   "source": [
    "result_df['CompFreq'].unique()\n",
    "#result_df[['CompFreq']].value_counts()"
   ]
  },
  {
   "cell_type": "markdown",
   "metadata": {},
   "source": [
    "Create a new column named 'NormalizedAnnualCompensation'. Use the hint given below if needed.\n"
   ]
  },
  {
   "cell_type": "markdown",
   "metadata": {},
   "source": [
    "Double click to see the **Hint**.\n",
    "\n",
    "<!--\n",
    "\n",
    "Use the below logic to arrive at the values for the column NormalizedAnnualCompensation.\n",
    "\n",
    "If the CompFreq is Yearly then use the exising value in CompTotal\n",
    "If the CompFreq is Monthly then multiply the value in CompTotal with 12 (months in an year)\n",
    "If the CompFreq is Weekly then multiply the value in CompTotal with 52 (weeks in an year)\n",
    "\n",
    "-->\n"
   ]
  },
  {
   "cell_type": "code",
   "execution_count": 27,
   "metadata": {},
   "outputs": [
    {
     "data": {
      "text/html": [
       "<div>\n",
       "<style scoped>\n",
       "    .dataframe tbody tr th:only-of-type {\n",
       "        vertical-align: middle;\n",
       "    }\n",
       "\n",
       "    .dataframe tbody tr th {\n",
       "        vertical-align: top;\n",
       "    }\n",
       "\n",
       "    .dataframe thead th {\n",
       "        text-align: right;\n",
       "    }\n",
       "</style>\n",
       "<table border=\"1\" class=\"dataframe\">\n",
       "  <thead>\n",
       "    <tr style=\"text-align: right;\">\n",
       "      <th></th>\n",
       "      <th>CompFreq</th>\n",
       "      <th>CompTotal</th>\n",
       "      <th>NormalizedAnnualCompensation</th>\n",
       "    </tr>\n",
       "  </thead>\n",
       "  <tbody>\n",
       "    <tr>\n",
       "      <th>0</th>\n",
       "      <td>Yearly</td>\n",
       "      <td>61000.0</td>\n",
       "      <td>61000.0</td>\n",
       "    </tr>\n",
       "    <tr>\n",
       "      <th>1</th>\n",
       "      <td>Yearly</td>\n",
       "      <td>138000.0</td>\n",
       "      <td>138000.0</td>\n",
       "    </tr>\n",
       "    <tr>\n",
       "      <th>2</th>\n",
       "      <td>Yearly</td>\n",
       "      <td>90000.0</td>\n",
       "      <td>90000.0</td>\n",
       "    </tr>\n",
       "    <tr>\n",
       "      <th>3</th>\n",
       "      <td>Monthly</td>\n",
       "      <td>29000.0</td>\n",
       "      <td>348000.0</td>\n",
       "    </tr>\n",
       "    <tr>\n",
       "      <th>4</th>\n",
       "      <td>Yearly</td>\n",
       "      <td>90000.0</td>\n",
       "      <td>90000.0</td>\n",
       "    </tr>\n",
       "    <tr>\n",
       "      <th>...</th>\n",
       "      <td>...</td>\n",
       "      <td>...</td>\n",
       "      <td>...</td>\n",
       "    </tr>\n",
       "    <tr>\n",
       "      <th>11547</th>\n",
       "      <td>Yearly</td>\n",
       "      <td>130000.0</td>\n",
       "      <td>130000.0</td>\n",
       "    </tr>\n",
       "    <tr>\n",
       "      <th>11548</th>\n",
       "      <td>Yearly</td>\n",
       "      <td>74400.0</td>\n",
       "      <td>74400.0</td>\n",
       "    </tr>\n",
       "    <tr>\n",
       "      <th>11549</th>\n",
       "      <td>Yearly</td>\n",
       "      <td>105000.0</td>\n",
       "      <td>105000.0</td>\n",
       "    </tr>\n",
       "    <tr>\n",
       "      <th>11550</th>\n",
       "      <td>Yearly</td>\n",
       "      <td>80000.0</td>\n",
       "      <td>80000.0</td>\n",
       "    </tr>\n",
       "    <tr>\n",
       "      <th>11551</th>\n",
       "      <td>NaN</td>\n",
       "      <td>NaN</td>\n",
       "      <td>NaN</td>\n",
       "    </tr>\n",
       "  </tbody>\n",
       "</table>\n",
       "<p>11398 rows × 3 columns</p>\n",
       "</div>"
      ],
      "text/plain": [
       "      CompFreq  CompTotal  NormalizedAnnualCompensation\n",
       "0       Yearly    61000.0                       61000.0\n",
       "1       Yearly   138000.0                      138000.0\n",
       "2       Yearly    90000.0                       90000.0\n",
       "3      Monthly    29000.0                      348000.0\n",
       "4       Yearly    90000.0                       90000.0\n",
       "...        ...        ...                           ...\n",
       "11547   Yearly   130000.0                      130000.0\n",
       "11548   Yearly    74400.0                       74400.0\n",
       "11549   Yearly   105000.0                      105000.0\n",
       "11550   Yearly    80000.0                       80000.0\n",
       "11551      NaN        NaN                           NaN\n",
       "\n",
       "[11398 rows x 3 columns]"
      ]
     },
     "execution_count": 27,
     "metadata": {},
     "output_type": "execute_result"
    }
   ],
   "source": [
    "result_df['NormalizedAnnualCompensation'] = np.where(result_df['CompFreq'] == 'Yearly', result_df['CompTotal'], \n",
    "                                                     (np.where(result_df['CompFreq'] == 'Monthly', result_df['CompTotal']*12, \n",
    "                                                      result_df['CompTotal']*52)))\n",
    "result_df[['CompFreq','CompTotal','NormalizedAnnualCompensation']]\n",
    "#result_df[['NormalizedAnnualCompensation']].median()"
   ]
  },
  {
   "cell_type": "markdown",
   "metadata": {},
   "source": [
    "## Authors\n"
   ]
  },
  {
   "cell_type": "markdown",
   "metadata": {},
   "source": [
    "Ramesh Sannareddy\n"
   ]
  },
  {
   "cell_type": "markdown",
   "metadata": {},
   "source": [
    "### Other Contributors\n"
   ]
  },
  {
   "cell_type": "markdown",
   "metadata": {},
   "source": [
    "Rav Ahuja\n"
   ]
  },
  {
   "cell_type": "markdown",
   "metadata": {},
   "source": [
    "## Change Log\n"
   ]
  },
  {
   "cell_type": "markdown",
   "metadata": {},
   "source": [
    "| Date (YYYY-MM-DD) | Version | Changed By        | Change Description                 |\n",
    "| ----------------- | ------- | ----------------- | ---------------------------------- |\n",
    "| 2020-10-17        | 0.1     | Ramesh Sannareddy | Created initial version of the lab |\n"
   ]
  },
  {
   "cell_type": "markdown",
   "metadata": {},
   "source": [
    " Copyright © 2020 IBM Corporation. This notebook and its source code are released under the terms of the [MIT License](https://cognitiveclass.ai/mit-license?utm_medium=Exinfluencer&utm_source=Exinfluencer&utm_content=000026UJ&utm_term=10006555&utm_id=NA-SkillsNetwork-Channel-SkillsNetworkCoursesIBMDA0321ENSkillsNetwork928-2022-01-01&cm_mmc=Email_Newsletter-_-Developer_Ed%2BTech-_-WW_WW-_-SkillsNetwork-Courses-IBM-DA0321EN-SkillsNetwork-21426264&cm_mmca1=000026UJ&cm_mmca2=10006555&cm_mmca3=M12345678&cvosrc=email.Newsletter.M12345678&cvo_campaign=000026UJ).\n"
   ]
  }
 ],
 "metadata": {
  "kernelspec": {
   "display_name": "Python 3 (ipykernel)",
   "language": "python",
   "name": "python3"
  },
  "language_info": {
   "codemirror_mode": {
    "name": "ipython",
    "version": 3
   },
   "file_extension": ".py",
   "mimetype": "text/x-python",
   "name": "python",
   "nbconvert_exporter": "python",
   "pygments_lexer": "ipython3",
   "version": "3.9.7"
  }
 },
 "nbformat": 4,
 "nbformat_minor": 4
}
